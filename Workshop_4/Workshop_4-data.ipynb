{
 "cells": [
  {
   "cell_type": "markdown",
   "id": "55a4724b",
   "metadata": {
    "id": "qzUV6UBA5CN2"
   },
   "source": [
    "Workshop 4 Data pre-processing with mix data type.\n",
    "\n",
    "Due date 24th July 2021 before midnight 23:59pm\n",
    "\n",
    "Example of your preprocessing task are listed as:\n",
    "\n",
    "**Data source:**\n",
    "\n",
    "https://archive.ics.uci.edu/ml/datasets/Adult\n",
    "\n",
    "https://archive.ics.uci.edu/ml/machine-learning-databases/adult/\n",
    "\n",
    "Training data = adult.data\n",
    "\n",
    "Testing data = adult.test\n",
    "\n",
    "1. Which feature is the class target / dependent variables?\n",
    "2. How many missing values in this data set? (list for each features)\n",
    "3. How did you remedy the missing value and outliers (show steps)\n",
    "4. What data pre-processing (i.e. normalization, discretization) techniques you have use in for this data set.\n",
    "5. Use Weka software, convert you pre-processed data to .arff and use KNN algorithm or IBK for datamining tool.\n",
    "6. What is the test accuracy did you get after you applied the adult.test (before pre-process and after pre-processing)?"
   ]
  },
  {
   "cell_type": "markdown",
   "id": "d8a01b1a",
   "metadata": {},
   "source": [
    "**Import Data**"
   ]
  },
  {
   "cell_type": "code",
   "execution_count": 3,
   "id": "8db7d6e9",
   "metadata": {
    "id": "8db7d6e9"
   },
   "outputs": [],
   "source": [
    "import pandas as pd\n",
    "\n",
    "adult_data = pd.read_csv('adult.csv')"
   ]
  },
  {
   "cell_type": "markdown",
   "id": "32f5e3bc",
   "metadata": {},
   "source": [
    "**Data Exploration** "
   ]
  },
  {
   "cell_type": "code",
   "execution_count": 4,
   "id": "fce5fb43",
   "metadata": {},
   "outputs": [
    {
     "name": "stdout",
     "output_type": "stream",
     "text": [
      "<class 'pandas.core.frame.DataFrame'>\n",
      "RangeIndex: 32561 entries, 0 to 32560\n",
      "Data columns (total 15 columns):\n",
      " #   Column          Non-Null Count  Dtype \n",
      "---  ------          --------------  ----- \n",
      " 0   age             32561 non-null  int64 \n",
      " 1   workclass       32561 non-null  object\n",
      " 2   fnlwgt          32561 non-null  int64 \n",
      " 3   education       32561 non-null  object\n",
      " 4   education-num   32561 non-null  int64 \n",
      " 5   marital-status  32561 non-null  object\n",
      " 6   occupation      32561 non-null  object\n",
      " 7   relationship    32561 non-null  object\n",
      " 8   race            32561 non-null  object\n",
      " 9   sex             32561 non-null  object\n",
      " 10  capital-gain    32561 non-null  int64 \n",
      " 11  capital-loss    32561 non-null  int64 \n",
      " 12  hours-per-week  32561 non-null  int64 \n",
      " 13  native-country  32561 non-null  object\n",
      " 14  income          32561 non-null  object\n",
      "dtypes: int64(6), object(9)\n",
      "memory usage: 3.7+ MB\n"
     ]
    }
   ],
   "source": [
    "adult_data.info()"
   ]
  },
  {
   "cell_type": "code",
   "execution_count": 5,
   "id": "27b216ef",
   "metadata": {
    "scrolled": true
   },
   "outputs": [
    {
     "data": {
      "text/plain": [
       "Private             22696\n",
       "Self-emp-not-inc     2541\n",
       "Local-gov            2093\n",
       "?                    1836\n",
       "State-gov            1298\n",
       "Self-emp-inc         1116\n",
       "Federal-gov           960\n",
       "Without-pay            14\n",
       "Never-worked            7\n",
       "Name: workclass, dtype: int64"
      ]
     },
     "execution_count": 5,
     "metadata": {},
     "output_type": "execute_result"
    }
   ],
   "source": [
    "# Find and count 'workclass' value\n",
    "adult_data['workclass'].value_counts()"
   ]
  },
  {
   "cell_type": "code",
   "execution_count": 6,
   "id": "0398a952",
   "metadata": {},
   "outputs": [
    {
     "data": {
      "text/plain": [
       "HS-grad         10501\n",
       "Some-college     7291\n",
       "Bachelors        5355\n",
       "Masters          1723\n",
       "Assoc-voc        1382\n",
       "11th             1175\n",
       "Assoc-acdm       1067\n",
       "10th              933\n",
       "7th-8th           646\n",
       "Prof-school       576\n",
       "9th               514\n",
       "12th              433\n",
       "Doctorate         413\n",
       "5th-6th           333\n",
       "1st-4th           168\n",
       "Preschool          51\n",
       "Name: education, dtype: int64"
      ]
     },
     "execution_count": 6,
     "metadata": {},
     "output_type": "execute_result"
    }
   ],
   "source": [
    "# Find and count 'education' value\n",
    "adult_data['education'].value_counts()"
   ]
  },
  {
   "cell_type": "code",
   "execution_count": 7,
   "id": "d6ddb49d",
   "metadata": {},
   "outputs": [
    {
     "data": {
      "text/plain": [
       "Married-civ-spouse       14976\n",
       "Never-married            10683\n",
       "Divorced                  4443\n",
       "Separated                 1025\n",
       "Widowed                    993\n",
       "Married-spouse-absent      418\n",
       "Married-AF-spouse           23\n",
       "Name: marital-status, dtype: int64"
      ]
     },
     "execution_count": 7,
     "metadata": {},
     "output_type": "execute_result"
    }
   ],
   "source": [
    "# Find and count 'marital-status' value\n",
    "adult_data['marital-status'].value_counts()"
   ]
  },
  {
   "cell_type": "code",
   "execution_count": 8,
   "id": "9c399ae8",
   "metadata": {},
   "outputs": [
    {
     "data": {
      "text/plain": [
       "Prof-specialty       4140\n",
       "Craft-repair         4099\n",
       "Exec-managerial      4066\n",
       "Adm-clerical         3770\n",
       "Sales                3650\n",
       "Other-service        3295\n",
       "Machine-op-inspct    2002\n",
       "?                    1843\n",
       "Transport-moving     1597\n",
       "Handlers-cleaners    1370\n",
       "Farming-fishing       994\n",
       "Tech-support          928\n",
       "Protective-serv       649\n",
       "Priv-house-serv       149\n",
       "Armed-Forces            9\n",
       "Name: occupation, dtype: int64"
      ]
     },
     "execution_count": 8,
     "metadata": {},
     "output_type": "execute_result"
    }
   ],
   "source": [
    "# Find and count 'occupation' value\n",
    "adult_data['occupation'].value_counts()"
   ]
  },
  {
   "cell_type": "code",
   "execution_count": 9,
   "id": "05e4be9d",
   "metadata": {},
   "outputs": [
    {
     "data": {
      "text/plain": [
       "Husband           13193\n",
       "Not-in-family      8305\n",
       "Own-child          5068\n",
       "Unmarried          3446\n",
       "Wife               1568\n",
       "Other-relative      981\n",
       "Name: relationship, dtype: int64"
      ]
     },
     "execution_count": 9,
     "metadata": {},
     "output_type": "execute_result"
    }
   ],
   "source": [
    "# Find and count 'relationship' value\n",
    "adult_data['relationship'].value_counts()"
   ]
  },
  {
   "cell_type": "code",
   "execution_count": 10,
   "id": "4601b245",
   "metadata": {},
   "outputs": [
    {
     "data": {
      "text/plain": [
       "White                 27816\n",
       "Black                  3124\n",
       "Asian-Pac-Islander     1039\n",
       "Amer-Indian-Eskimo      311\n",
       "Other                   271\n",
       "Name: race, dtype: int64"
      ]
     },
     "execution_count": 10,
     "metadata": {},
     "output_type": "execute_result"
    }
   ],
   "source": [
    "# Find and count 'race' value\n",
    "adult_data['race'].value_counts()"
   ]
  },
  {
   "cell_type": "code",
   "execution_count": 11,
   "id": "a6282908",
   "metadata": {},
   "outputs": [
    {
     "data": {
      "text/plain": [
       "Male      21790\n",
       "Female    10771\n",
       "Name: sex, dtype: int64"
      ]
     },
     "execution_count": 11,
     "metadata": {},
     "output_type": "execute_result"
    }
   ],
   "source": [
    "# Find and count 'sex' value\n",
    "adult_data['sex'].value_counts()"
   ]
  },
  {
   "cell_type": "code",
   "execution_count": 12,
   "id": "b750eb15",
   "metadata": {},
   "outputs": [
    {
     "data": {
      "text/plain": [
       "United-States                 29170\n",
       "Mexico                          643\n",
       "?                               583\n",
       "Philippines                     198\n",
       "Germany                         137\n",
       "Canada                          121\n",
       "Puerto-Rico                     114\n",
       "El-Salvador                     106\n",
       "India                           100\n",
       "Cuba                             95\n",
       "England                          90\n",
       "Jamaica                          81\n",
       "South                            80\n",
       "China                            75\n",
       "Italy                            73\n",
       "Dominican-Republic               70\n",
       "Vietnam                          67\n",
       "Guatemala                        64\n",
       "Japan                            62\n",
       "Poland                           60\n",
       "Columbia                         59\n",
       "Taiwan                           51\n",
       "Haiti                            44\n",
       "Iran                             43\n",
       "Portugal                         37\n",
       "Nicaragua                        34\n",
       "Peru                             31\n",
       "France                           29\n",
       "Greece                           29\n",
       "Ecuador                          28\n",
       "Ireland                          24\n",
       "Hong                             20\n",
       "Cambodia                         19\n",
       "Trinadad&Tobago                  19\n",
       "Laos                             18\n",
       "Thailand                         18\n",
       "Yugoslavia                       16\n",
       "Outlying-US(Guam-USVI-etc)       14\n",
       "Honduras                         13\n",
       "Hungary                          13\n",
       "Scotland                         12\n",
       "Holand-Netherlands                1\n",
       "Name: native-country, dtype: int64"
      ]
     },
     "execution_count": 12,
     "metadata": {},
     "output_type": "execute_result"
    }
   ],
   "source": [
    "# Find and count 'native-country' value\n",
    "adult_data['native-country'].value_counts()"
   ]
  },
  {
   "cell_type": "code",
   "execution_count": 13,
   "id": "1a28a096",
   "metadata": {},
   "outputs": [
    {
     "data": {
      "text/plain": [
       "<=50K    24720\n",
       ">50K      7841\n",
       "Name: income, dtype: int64"
      ]
     },
     "execution_count": 13,
     "metadata": {},
     "output_type": "execute_result"
    }
   ],
   "source": [
    "# Find and count 'income' value\n",
    "adult_data['income'].value_counts()"
   ]
  },
  {
   "cell_type": "markdown",
   "id": "025cf8c4",
   "metadata": {},
   "source": [
    "**Cleaning Data**"
   ]
  },
  {
   "cell_type": "code",
   "execution_count": 14,
   "id": "916bf3fb",
   "metadata": {
    "scrolled": true
   },
   "outputs": [
    {
     "data": {
      "text/plain": [
       "Private             22696\n",
       "Self-emp-not-inc     2541\n",
       "Local-gov            2093\n",
       "State-gov            1298\n",
       "Self-emp-inc         1116\n",
       "Federal-gov           960\n",
       "Without-pay            14\n",
       "Never-worked            7\n",
       "Name: workclass, dtype: int64"
      ]
     },
     "execution_count": 14,
     "metadata": {},
     "output_type": "execute_result"
    }
   ],
   "source": [
    "# Remove missing value ('?') in workclass\n",
    "for x in adult_data.index:\n",
    "    if adult_data.loc[x, 'workclass'] == '?':\n",
    "        adult_data.drop(x, inplace = True)\n",
    "\n",
    "adult_data['workclass'].value_counts()"
   ]
  },
  {
   "cell_type": "code",
   "execution_count": 15,
   "id": "6893af41",
   "metadata": {},
   "outputs": [
    {
     "data": {
      "text/plain": [
       "Prof-specialty       4140\n",
       "Craft-repair         4099\n",
       "Exec-managerial      4066\n",
       "Adm-clerical         3770\n",
       "Sales                3650\n",
       "Other-service        3295\n",
       "Machine-op-inspct    2002\n",
       "Transport-moving     1597\n",
       "Handlers-cleaners    1370\n",
       "Farming-fishing       994\n",
       "Tech-support          928\n",
       "Protective-serv       649\n",
       "Priv-house-serv       149\n",
       "Armed-Forces            9\n",
       "Name: occupation, dtype: int64"
      ]
     },
     "execution_count": 15,
     "metadata": {},
     "output_type": "execute_result"
    }
   ],
   "source": [
    "# Remove missing value ('?') in occupation\n",
    "for x in adult_data.index:\n",
    "    if adult_data.loc[x, 'occupation'] == '?':\n",
    "        adult_data.drop(x, inplace = True)\n",
    "\n",
    "adult_data['occupation'].value_counts()"
   ]
  },
  {
   "cell_type": "code",
   "execution_count": 16,
   "id": "15e2c448",
   "metadata": {
    "scrolled": true
   },
   "outputs": [
    {
     "data": {
      "text/plain": [
       "United-States                 27504\n",
       "Mexico                          610\n",
       "Philippines                     188\n",
       "Germany                         128\n",
       "Puerto-Rico                     109\n",
       "Canada                          107\n",
       "India                           100\n",
       "El-Salvador                     100\n",
       "Cuba                             92\n",
       "England                          86\n",
       "Jamaica                          80\n",
       "South                            71\n",
       "China                            68\n",
       "Italy                            68\n",
       "Dominican-Republic               67\n",
       "Vietnam                          64\n",
       "Guatemala                        63\n",
       "Japan                            59\n",
       "Poland                           56\n",
       "Columbia                         56\n",
       "Iran                             42\n",
       "Taiwan                           42\n",
       "Haiti                            42\n",
       "Portugal                         34\n",
       "Nicaragua                        33\n",
       "Peru                             30\n",
       "Greece                           29\n",
       "France                           27\n",
       "Ecuador                          27\n",
       "Ireland                          24\n",
       "Hong                             19\n",
       "Cambodia                         18\n",
       "Trinadad&Tobago                  18\n",
       "Thailand                         17\n",
       "Laos                             17\n",
       "Yugoslavia                       16\n",
       "Outlying-US(Guam-USVI-etc)       14\n",
       "Hungary                          13\n",
       "Honduras                         12\n",
       "Scotland                         11\n",
       "Holand-Netherlands                1\n",
       "Name: native-country, dtype: int64"
      ]
     },
     "execution_count": 16,
     "metadata": {},
     "output_type": "execute_result"
    }
   ],
   "source": [
    "# Remove missing value ('?') in native-country\n",
    "for x in adult_data.index:\n",
    "    if adult_data.loc[x, 'native-country'] == '?':\n",
    "        adult_data.drop(x, inplace = True)\n",
    "\n",
    "adult_data['native-country'].value_counts()"
   ]
  },
  {
   "cell_type": "code",
   "execution_count": 17,
   "id": "36fc090c",
   "metadata": {
    "scrolled": true
   },
   "outputs": [
    {
     "name": "stdout",
     "output_type": "stream",
     "text": [
      "<class 'pandas.core.frame.DataFrame'>\n",
      "Int64Index: 30162 entries, 0 to 32560\n",
      "Data columns (total 15 columns):\n",
      " #   Column          Non-Null Count  Dtype \n",
      "---  ------          --------------  ----- \n",
      " 0   age             30162 non-null  int64 \n",
      " 1   workclass       30162 non-null  object\n",
      " 2   fnlwgt          30162 non-null  int64 \n",
      " 3   education       30162 non-null  object\n",
      " 4   education-num   30162 non-null  int64 \n",
      " 5   marital-status  30162 non-null  object\n",
      " 6   occupation      30162 non-null  object\n",
      " 7   relationship    30162 non-null  object\n",
      " 8   race            30162 non-null  object\n",
      " 9   sex             30162 non-null  object\n",
      " 10  capital-gain    30162 non-null  int64 \n",
      " 11  capital-loss    30162 non-null  int64 \n",
      " 12  hours-per-week  30162 non-null  int64 \n",
      " 13  native-country  30162 non-null  object\n",
      " 14  income          30162 non-null  object\n",
      "dtypes: int64(6), object(9)\n",
      "memory usage: 4.7+ MB\n"
     ]
    }
   ],
   "source": [
    "adult_data.info()"
   ]
  },
  {
   "cell_type": "code",
   "execution_count": 18,
   "id": "aedaa9bc",
   "metadata": {},
   "outputs": [],
   "source": [
    "# Export to csv\n",
    "adult_data.to_csv(r'C:\\Users\\sonram_sirirat\\Documents\\GitHub\\everything-starts-with-data\\Workshop_4\\adult_data.csv', index = False)"
   ]
  }
 ],
 "metadata": {
  "colab": {
   "name": "Workshop_4.ipynb",
   "provenance": []
  },
  "kernelspec": {
   "display_name": "Python 3",
   "language": "python",
   "name": "python3"
  },
  "language_info": {
   "codemirror_mode": {
    "name": "ipython",
    "version": 3
   },
   "file_extension": ".py",
   "mimetype": "text/x-python",
   "name": "python",
   "nbconvert_exporter": "python",
   "pygments_lexer": "ipython3",
   "version": "3.8.8"
  }
 },
 "nbformat": 4,
 "nbformat_minor": 5
}
