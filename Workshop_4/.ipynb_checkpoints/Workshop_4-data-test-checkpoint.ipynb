{
 "cells": [
  {
   "cell_type": "markdown",
   "id": "55a4724b",
   "metadata": {
    "id": "qzUV6UBA5CN2"
   },
   "source": [
    "Workshop 4 Data pre-processing with mix data type.\n",
    "\n",
    "Due date 24th July 2021 before midnight 23:59pm\n",
    "\n",
    "Example of your preprocessing task are listed as:\n",
    "\n",
    "**Data source:**\n",
    "\n",
    "https://archive.ics.uci.edu/ml/datasets/Adult\n",
    "\n",
    "https://archive.ics.uci.edu/ml/machine-learning-databases/adult/\n",
    "\n",
    "Training data = adult.data\n",
    "\n",
    "Testing data = adult.test"
   ]
  },
  {
   "cell_type": "markdown",
   "id": "d8a01b1a",
   "metadata": {},
   "source": [
    "**Import Data**"
   ]
  },
  {
   "cell_type": "code",
   "execution_count": 2,
   "id": "8db7d6e9",
   "metadata": {
    "id": "8db7d6e9"
   },
   "outputs": [],
   "source": [
    "import pandas as pd\n",
    "\n",
    "adult_data_test = pd.read_csv('adult.test.csv')"
   ]
  },
  {
   "cell_type": "markdown",
   "id": "32f5e3bc",
   "metadata": {},
   "source": [
    "**Data Exploration** "
   ]
  },
  {
   "cell_type": "code",
   "execution_count": 3,
   "id": "fce5fb43",
   "metadata": {},
   "outputs": [
    {
     "name": "stdout",
     "output_type": "stream",
     "text": [
      "<class 'pandas.core.frame.DataFrame'>\n",
      "RangeIndex: 16281 entries, 0 to 16280\n",
      "Data columns (total 15 columns):\n",
      " #   Column          Non-Null Count  Dtype \n",
      "---  ------          --------------  ----- \n",
      " 0   age             16281 non-null  int64 \n",
      " 1   workclass       16281 non-null  object\n",
      " 2   fnlwgt          16281 non-null  int64 \n",
      " 3   education       16281 non-null  object\n",
      " 4   education_num   16281 non-null  int64 \n",
      " 5   marital_status  16281 non-null  object\n",
      " 6   occupation      16281 non-null  object\n",
      " 7   relationship    16281 non-null  object\n",
      " 8   race            16281 non-null  object\n",
      " 9   sex             16281 non-null  object\n",
      " 10  capital_gain    16281 non-null  int64 \n",
      " 11  capital_loss    16281 non-null  int64 \n",
      " 12  hours_per_week  16281 non-null  int64 \n",
      " 13  native_country  16281 non-null  object\n",
      " 14  income          16281 non-null  object\n",
      "dtypes: int64(6), object(9)\n",
      "memory usage: 1.9+ MB\n"
     ]
    }
   ],
   "source": [
    "adult_data_test.info()"
   ]
  },
  {
   "cell_type": "code",
   "execution_count": 4,
   "id": "27b216ef",
   "metadata": {
    "scrolled": true
   },
   "outputs": [
    {
     "data": {
      "text/plain": [
       "Private             11210\n",
       "Self-emp-not-inc     1321\n",
       "Local-gov            1043\n",
       "?                     963\n",
       "State-gov             683\n",
       "Self-emp-inc          579\n",
       "Federal-gov           472\n",
       "Without-pay             7\n",
       "Never-worked            3\n",
       "Name: workclass, dtype: int64"
      ]
     },
     "execution_count": 4,
     "metadata": {},
     "output_type": "execute_result"
    }
   ],
   "source": [
    "# Find and count 'workclass' value\n",
    "adult_data_test['workclass'].value_counts()"
   ]
  },
  {
   "cell_type": "code",
   "execution_count": 5,
   "id": "0398a952",
   "metadata": {},
   "outputs": [
    {
     "data": {
      "text/plain": [
       "HS-grad         5283\n",
       "Some-college    3587\n",
       "Bachelors       2670\n",
       "Masters          934\n",
       "Assoc-voc        679\n",
       "11th             637\n",
       "Assoc-acdm       534\n",
       "10th             456\n",
       "7th-8th          309\n",
       "Prof-school      258\n",
       "9th              242\n",
       "12th             224\n",
       "Doctorate        181\n",
       "5th-6th          176\n",
       "1st-4th           79\n",
       "Preschool         32\n",
       "Name: education, dtype: int64"
      ]
     },
     "execution_count": 5,
     "metadata": {},
     "output_type": "execute_result"
    }
   ],
   "source": [
    "# Find and count 'education' value\n",
    "adult_data_test['education'].value_counts()"
   ]
  },
  {
   "cell_type": "code",
   "execution_count": 7,
   "id": "d6ddb49d",
   "metadata": {},
   "outputs": [
    {
     "data": {
      "text/plain": [
       "Married-civ-spouse       7403\n",
       "Never-married            5434\n",
       "Divorced                 2190\n",
       "Widowed                   525\n",
       "Separated                 505\n",
       "Married-spouse-absent     210\n",
       "Married-AF-spouse          14\n",
       "Name: marital_status, dtype: int64"
      ]
     },
     "execution_count": 7,
     "metadata": {},
     "output_type": "execute_result"
    }
   ],
   "source": [
    "# Find and count 'marital-status' value\n",
    "adult_data_test['marital_status'].value_counts()"
   ]
  },
  {
   "cell_type": "code",
   "execution_count": 8,
   "id": "9c399ae8",
   "metadata": {},
   "outputs": [
    {
     "data": {
      "text/plain": [
       "Prof-specialty       2032\n",
       "Exec-managerial      2020\n",
       "Craft-repair         2013\n",
       "Sales                1854\n",
       "Adm-clerical         1841\n",
       "Other-service        1628\n",
       "Machine-op-inspct    1020\n",
       "?                     966\n",
       "Transport-moving      758\n",
       "Handlers-cleaners     702\n",
       "Tech-support          518\n",
       "Farming-fishing       496\n",
       "Protective-serv       334\n",
       "Priv-house-serv        93\n",
       "Armed-Forces            6\n",
       "Name: occupation, dtype: int64"
      ]
     },
     "execution_count": 8,
     "metadata": {},
     "output_type": "execute_result"
    }
   ],
   "source": [
    "# Find and count 'occupation' value\n",
    "adult_data_test['occupation'].value_counts()"
   ]
  },
  {
   "cell_type": "code",
   "execution_count": 9,
   "id": "05e4be9d",
   "metadata": {},
   "outputs": [
    {
     "data": {
      "text/plain": [
       "Husband           6523\n",
       "Not-in-family     4278\n",
       "Own-child         2513\n",
       "Unmarried         1679\n",
       "Wife               763\n",
       "Other-relative     525\n",
       "Name: relationship, dtype: int64"
      ]
     },
     "execution_count": 9,
     "metadata": {},
     "output_type": "execute_result"
    }
   ],
   "source": [
    "# Find and count 'relationship' value\n",
    "adult_data_test['relationship'].value_counts()"
   ]
  },
  {
   "cell_type": "code",
   "execution_count": 10,
   "id": "4601b245",
   "metadata": {},
   "outputs": [
    {
     "data": {
      "text/plain": [
       "White                 13946\n",
       "Black                  1561\n",
       "Asian-Pac-Islander      480\n",
       "Amer-Indian-Eskimo      159\n",
       "Other                   135\n",
       "Name: race, dtype: int64"
      ]
     },
     "execution_count": 10,
     "metadata": {},
     "output_type": "execute_result"
    }
   ],
   "source": [
    "# Find and count 'race' value\n",
    "adult_data_test['race'].value_counts()"
   ]
  },
  {
   "cell_type": "code",
   "execution_count": 11,
   "id": "a6282908",
   "metadata": {},
   "outputs": [
    {
     "data": {
      "text/plain": [
       "Male      10860\n",
       "Female     5421\n",
       "Name: sex, dtype: int64"
      ]
     },
     "execution_count": 11,
     "metadata": {},
     "output_type": "execute_result"
    }
   ],
   "source": [
    "# Find and count 'sex' value\n",
    "adult_data_test['sex'].value_counts()"
   ]
  },
  {
   "cell_type": "code",
   "execution_count": 12,
   "id": "b750eb15",
   "metadata": {},
   "outputs": [
    {
     "data": {
      "text/plain": [
       "United-States                 14662\n",
       "Mexico                          308\n",
       "?                               274\n",
       "Philippines                      97\n",
       "Puerto-Rico                      70\n",
       "Germany                          69\n",
       "Canada                           61\n",
       "India                            51\n",
       "El-Salvador                      49\n",
       "China                            47\n",
       "Cuba                             43\n",
       "England                          37\n",
       "South                            35\n",
       "Dominican-Republic               33\n",
       "Italy                            32\n",
       "Haiti                            31\n",
       "Portugal                         30\n",
       "Japan                            30\n",
       "Poland                           27\n",
       "Columbia                         26\n",
       "Jamaica                          25\n",
       "Guatemala                        24\n",
       "Greece                           20\n",
       "Vietnam                          19\n",
       "Ecuador                          17\n",
       "Iran                             16\n",
       "Peru                             15\n",
       "Nicaragua                        15\n",
       "Taiwan                           14\n",
       "Ireland                          13\n",
       "Thailand                         12\n",
       "Hong                             10\n",
       "Outlying-US(Guam-USVI-etc)        9\n",
       "France                            9\n",
       "Scotland                          9\n",
       "Cambodia                          9\n",
       "Trinadad&Tobago                   8\n",
       "Yugoslavia                        7\n",
       "Honduras                          7\n",
       "Hungary                           6\n",
       "Laos                              5\n",
       "Name: native_country, dtype: int64"
      ]
     },
     "execution_count": 12,
     "metadata": {},
     "output_type": "execute_result"
    }
   ],
   "source": [
    "# Find and count 'native-country' value\n",
    "adult_data_test['native_country'].value_counts()"
   ]
  },
  {
   "cell_type": "code",
   "execution_count": 13,
   "id": "1a28a096",
   "metadata": {},
   "outputs": [
    {
     "data": {
      "text/plain": [
       "<=50K.    12435\n",
       ">50K.      3846\n",
       "Name: income, dtype: int64"
      ]
     },
     "execution_count": 13,
     "metadata": {},
     "output_type": "execute_result"
    }
   ],
   "source": [
    "# Find and count 'income' value\n",
    "adult_data_test['income'].value_counts()"
   ]
  },
  {
   "cell_type": "markdown",
   "id": "025cf8c4",
   "metadata": {},
   "source": [
    "**Cleaning Data**"
   ]
  },
  {
   "cell_type": "code",
   "execution_count": 16,
   "id": "916bf3fb",
   "metadata": {
    "scrolled": true
   },
   "outputs": [
    {
     "data": {
      "text/plain": [
       "Private             11210\n",
       "Self-emp-not-inc     1321\n",
       "Local-gov            1043\n",
       "State-gov             683\n",
       "Self-emp-inc          579\n",
       "Federal-gov           472\n",
       "Without-pay             7\n",
       "Never-worked            3\n",
       "Name: workclass, dtype: int64"
      ]
     },
     "execution_count": 16,
     "metadata": {},
     "output_type": "execute_result"
    }
   ],
   "source": [
    "# Remove missing value ('?') in workclass\n",
    "for x in adult_data_test.index:\n",
    "    if adult_data_test.loc[x, 'workclass'] == '?':\n",
    "        adult_data_test.drop(x, inplace = True)\n",
    "\n",
    "adult_data_test['workclass'].value_counts()"
   ]
  },
  {
   "cell_type": "code",
   "execution_count": 17,
   "id": "6893af41",
   "metadata": {},
   "outputs": [
    {
     "data": {
      "text/plain": [
       "Prof-specialty       2032\n",
       "Exec-managerial      2020\n",
       "Craft-repair         2013\n",
       "Sales                1854\n",
       "Adm-clerical         1841\n",
       "Other-service        1628\n",
       "Machine-op-inspct    1020\n",
       "Transport-moving      758\n",
       "Handlers-cleaners     702\n",
       "Tech-support          518\n",
       "Farming-fishing       496\n",
       "Protective-serv       334\n",
       "Priv-house-serv        93\n",
       "Armed-Forces            6\n",
       "Name: occupation, dtype: int64"
      ]
     },
     "execution_count": 17,
     "metadata": {},
     "output_type": "execute_result"
    }
   ],
   "source": [
    "# Remove missing value ('?') in occupation\n",
    "for x in adult_data_test.index:\n",
    "    if adult_data_test.loc[x, 'occupation'] == '?':\n",
    "        adult_data_test.drop(x, inplace = True)\n",
    "\n",
    "adult_data_test['occupation'].value_counts()"
   ]
  },
  {
   "cell_type": "code",
   "execution_count": 18,
   "id": "15e2c448",
   "metadata": {
    "scrolled": true
   },
   "outputs": [
    {
     "data": {
      "text/plain": [
       "United-States                 13788\n",
       "Mexico                          293\n",
       "Philippines                      95\n",
       "Puerto-Rico                      66\n",
       "Germany                          65\n",
       "Canada                           56\n",
       "El-Salvador                      47\n",
       "India                            47\n",
       "China                            45\n",
       "Cuba                             41\n",
       "England                          33\n",
       "Italy                            32\n",
       "South                            30\n",
       "Dominican-Republic               30\n",
       "Japan                            30\n",
       "Portugal                         28\n",
       "Haiti                            27\n",
       "Columbia                         26\n",
       "Poland                           25\n",
       "Guatemala                        23\n",
       "Jamaica                          23\n",
       "Greece                           20\n",
       "Vietnam                          19\n",
       "Ecuador                          16\n",
       "Nicaragua                        15\n",
       "Peru                             15\n",
       "Iran                             14\n",
       "Taiwan                           13\n",
       "Thailand                         12\n",
       "Ireland                          12\n",
       "Hong                              9\n",
       "Scotland                          9\n",
       "France                            9\n",
       "Outlying-US(Guam-USVI-etc)        8\n",
       "Trinadad&Tobago                   8\n",
       "Cambodia                          8\n",
       "Yugoslavia                        7\n",
       "Honduras                          7\n",
       "Hungary                           5\n",
       "Laos                              4\n",
       "Name: native_country, dtype: int64"
      ]
     },
     "execution_count": 18,
     "metadata": {},
     "output_type": "execute_result"
    }
   ],
   "source": [
    "# Remove missing value ('?') in native-country\n",
    "for x in adult_data_test.index:\n",
    "    if adult_data_test.loc[x, 'native_country'] == '?':\n",
    "        adult_data_test.drop(x, inplace = True)\n",
    "\n",
    "adult_data_test['native_country'].value_counts()"
   ]
  },
  {
   "cell_type": "code",
   "execution_count": 19,
   "id": "36fc090c",
   "metadata": {
    "scrolled": true
   },
   "outputs": [
    {
     "name": "stdout",
     "output_type": "stream",
     "text": [
      "<class 'pandas.core.frame.DataFrame'>\n",
      "Int64Index: 15060 entries, 0 to 16280\n",
      "Data columns (total 15 columns):\n",
      " #   Column          Non-Null Count  Dtype \n",
      "---  ------          --------------  ----- \n",
      " 0   age             15060 non-null  int64 \n",
      " 1   workclass       15060 non-null  object\n",
      " 2   fnlwgt          15060 non-null  int64 \n",
      " 3   education       15060 non-null  object\n",
      " 4   education_num   15060 non-null  int64 \n",
      " 5   marital_status  15060 non-null  object\n",
      " 6   occupation      15060 non-null  object\n",
      " 7   relationship    15060 non-null  object\n",
      " 8   race            15060 non-null  object\n",
      " 9   sex             15060 non-null  object\n",
      " 10  capital_gain    15060 non-null  int64 \n",
      " 11  capital_loss    15060 non-null  int64 \n",
      " 12  hours_per_week  15060 non-null  int64 \n",
      " 13  native_country  15060 non-null  object\n",
      " 14  income          15060 non-null  object\n",
      "dtypes: int64(6), object(9)\n",
      "memory usage: 2.3+ MB\n"
     ]
    }
   ],
   "source": [
    "adult_data_test.info()"
   ]
  },
  {
   "cell_type": "code",
   "execution_count": 20,
   "id": "aedaa9bc",
   "metadata": {},
   "outputs": [],
   "source": [
    "# Export to csv\n",
    "adult_data_test.to_csv(r'C:\\Users\\sonram_sirirat\\Documents\\GitHub\\everything-starts-with-data\\Workshop_4\\adult_data_test.csv', index = False)"
   ]
  }
 ],
 "metadata": {
  "colab": {
   "name": "Workshop_4.ipynb",
   "provenance": []
  },
  "kernelspec": {
   "display_name": "Python 3",
   "language": "python",
   "name": "python3"
  },
  "language_info": {
   "codemirror_mode": {
    "name": "ipython",
    "version": 3
   },
   "file_extension": ".py",
   "mimetype": "text/x-python",
   "name": "python",
   "nbconvert_exporter": "python",
   "pygments_lexer": "ipython3",
   "version": "3.8.8"
  }
 },
 "nbformat": 4,
 "nbformat_minor": 5
}
