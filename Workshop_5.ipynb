{
  "nbformat": 4,
  "nbformat_minor": 0,
  "metadata": {
    "colab": {
      "name": "Workshop-5.ipynb",
      "provenance": [],
      "authorship_tag": "ABX9TyPv7tRia/rZwXK4vp6bMumT",
      "include_colab_link": true
    },
    "kernelspec": {
      "name": "python3",
      "display_name": "Python 3"
    },
    "language_info": {
      "name": "python"
    }
  },
  "cells": [
    {
      "cell_type": "markdown",
      "metadata": {
        "id": "view-in-github",
        "colab_type": "text"
      },
      "source": [
        "<a href=\"https://colab.research.google.com/github/SonramSirirat/everything-starts-with-data/blob/main/Workshop_5.ipynb\" target=\"_parent\"><img src=\"https://colab.research.google.com/assets/colab-badge.svg\" alt=\"Open In Colab\"/></a>"
      ]
    },
    {
      "cell_type": "markdown",
      "metadata": {
        "id": "Ajsm-uBo62iR"
      },
      "source": [
        "# Workshop - 5 extend as homework\n",
        "\n",
        "*   Use the previous preprocessed adult data set, and apply the KNN learning algorithm through scklearn\n",
        "*   You are required to program in Python submit your ipybn file to the google class room with the following results.\n",
        "*   Report Accuracy rate, Confusion matrix, Plot train vs test dataset, Plot of Cross validation.\n",
        "*   What is the optimal k?\n",
        "*   Write 1 paragraph discuss the result of your model.\n"
      ]
    },
    {
      "cell_type": "markdown",
      "metadata": {
        "id": "8gS5o9hE_wD6"
      },
      "source": [
        "# Import Data"
      ]
    },
    {
      "cell_type": "code",
      "metadata": {
        "colab": {
          "base_uri": "https://localhost:8080/"
        },
        "id": "llUtdAFP_p1_",
        "outputId": "f0115b89-c05f-4121-a1f8-6c96c1995fd5"
      },
      "source": [
        "import matplotlib\n",
        "import numpy as np\n",
        "import pandas as pd\n",
        "import seaborn as sns\n",
        "from sklearn.model_selection import train_test_split\n",
        "url = \"https://raw.githubusercontent.com/SonramSirirat/everything-starts-with-data/main/Workshop_5/adult_pre.csv?raw=True\"\n",
        "df = pd.read_csv(url)\n",
        "print(df.head(5))"
      ],
      "execution_count": 11,
      "outputs": [
        {
          "output_type": "stream",
          "text": [
            "   age          workclass  fnlwgt  ... hours.per.week  native.country  income\n",
            "0   50   Self-emp-not-inc   83311  ...             13   United-States   <=50K\n",
            "1   38            Private  215646  ...             40   United-States   <=50K\n",
            "2   53            Private  234721  ...             40   United-States   <=50K\n",
            "3   28            Private  338409  ...             40            Cuba   <=50K\n",
            "4   37            Private  284582  ...             40   United-States   <=50K\n",
            "\n",
            "[5 rows x 16 columns]\n"
          ],
          "name": "stdout"
        }
      ]
    },
    {
      "cell_type": "markdown",
      "metadata": {
        "id": "8GgzgN7BAFqH"
      },
      "source": [
        "# Selection Attribute"
      ]
    },
    {
      "cell_type": "code",
      "metadata": {
        "colab": {
          "base_uri": "https://localhost:8080/",
          "height": 1000
        },
        "id": "UjUrB8Lt4rLU",
        "outputId": "321c0168-2f70-4abe-eec4-34ee4f083083"
      },
      "source": [
        "# X = df[[\"age\",\"workclass\",\"fnlwgt\",\"education\",\"education.num\",\"marital.status\",\"occupation\",\"relationship\",\"race\",\"sex.Female\",\"sex.Male\",\"capital.gain\",\"capital.loss\",\"hours.per.week\",\"native.country\"]]\n",
        "# X = df[[\"age\",\"fnlwgt\",\"education.num\",\"sex.Female\",\"sex.Male\",\"capital.gain\",\"capital.loss\",\"hours.per.week\"]]\n",
        "X = df[[\"age\", \"fnlwgt\", \"education.num\", \"sex.Female\", \"sex.Male\", \"capital.gain\", \"capital.loss\", \"hours.per.week\"]]\n",
        "y = df[[\"income\"]]\n",
        "X_train,X_test,y_train,y_test = train_test_split(X,y,test_size=0.2,random_state=7)\n",
        "print('Train Shape X: {} Y : {}'.format(X_train.shape,y_train.shape))\n",
        "print('Test Shape X: {} Y : {}'.format(X_test.shape,y_test.shape))\n",
        "\n",
        "# https://medium.com/mmp-li/k-nn-%E0%B8%81%E0%B8%B1%E0%B8%9A-sklearn-machine-learning-101-81350e8402f0\n",
        "# สร้างโมเดล K-NN แล้วด้วยการเรียก Library KNeighborsClassifier โดยเราจะกำหนดเพื่อนบ้านไว้ที่ 1 คนก่อน\n",
        "from sklearn.neighbors import KNeighborsClassifier\n",
        "n = 5\n",
        "k = 0\n",
        "acc = 0\n",
        "for i in range(1,n+1):\n",
        "    knn = KNeighborsClassifier(n_neighbors = i)\n",
        "    #จากนั้นฝึกฝนโมเดลด้วยคำสั่ง fit(X,y) โดยให้ใส่ข้อมูลฝึกฝนที่ X และเฉลยที่ y\n",
        "    knn.fit(X_train,y_train)\n",
        "    #ทำการทดสอบโมเดลโดยการนำชุดข้อมูลทดสอบเข้าไปทำนายด้วยคำสั่ง predict() โดยรอบนี้เราไม่ต้องใส่เฉลยเข้าไป ให้ใส่แค่ข้อมูลที่ต้องการทดสอบ\n",
        "    answer = knn.predict(X_test)\n",
        "    #ตรวจสอบว่าโมเดล โดยเราจะใช้ classification_report ที่สามารถดึงค่า precision , recall , f1-score จากการเทียบระหว่างสิ่งที่โมเดลทำนายกับเฉลยได้เลย\n",
        "    from sklearn.metrics import classification_report\n",
        "    print(classification_report(y_test, answer))\n",
        "    #https://medium.com/mmp-li/evaluate-model-precision-recall-f1-score-machine-learning-101-89dbbada0c96\n",
        "    from sklearn.metrics import accuracy_score\n",
        "    accore = accuracy_score(y_test, answer)\n",
        "    from sklearn.metrics import confusion_matrix\n",
        "    if acc < accore:\n",
        "        k = i\n",
        "        acc = accore\n",
        "print(k)\n",
        "\n",
        "from sklearn.model_selection import cross_val_score\n",
        "score = cross_val_score(knn, X_train,y_train,cv=5,scoring='accuracy')\n",
        "print(score)\n",
        "avg = sum(score)/len(score)\n",
        "print(avg)\n",
        "\n",
        "# https://scikit-learn.org/0.15/auto_examples/plot_confusion_matrix.html\n",
        "# Run classifier\n",
        "\n",
        "# Compute confusion matrix\n",
        "cm = confusion_matrix(y_test, answer)\n",
        "\n",
        "print(cm)\n",
        "\n",
        "from sklearn import svm, datasets\n",
        "from sklearn.metrics import confusion_matrix\n",
        "\n",
        "import matplotlib.pyplot as plt\n",
        "# Show confusion matrix in a separate window\n",
        "plt.matshow(cm)\n",
        "plt.title('Confusion matrix')\n",
        "plt.colorbar()\n",
        "plt.ylabel('True label')\n",
        "plt.xlabel('Predicted label')\n",
        "plt.show()\n",
        "\n",
        "# https://drive.google.com/file/d/1vMzYHbYAiG6l_pwitjtVAVmQT1MCRWw_/view?usp=sharing\n",
        "# https://dsdi.msu.ac.th/?article=data-science&fn=train_test_split"
      ],
      "execution_count": 10,
      "outputs": [
        {
          "output_type": "stream",
          "text": [
            "   age          workclass  fnlwgt  ... hours.per.week  native.country  income\n",
            "0   50   Self-emp-not-inc   83311  ...             13   United-States   <=50K\n",
            "1   38            Private  215646  ...             40   United-States   <=50K\n",
            "2   53            Private  234721  ...             40   United-States   <=50K\n",
            "3   28            Private  338409  ...             40            Cuba   <=50K\n",
            "4   37            Private  284582  ...             40   United-States   <=50K\n",
            "\n",
            "[5 rows x 16 columns]\n",
            "Train Shape X: (22571, 8) Y : (22571, 1)\n",
            "Test Shape X: (5643, 8) Y : (5643, 1)\n"
          ],
          "name": "stdout"
        },
        {
          "output_type": "stream",
          "text": [
            "/usr/local/lib/python3.7/dist-packages/ipykernel_launcher.py:28: DataConversionWarning: A column-vector y was passed when a 1d array was expected. Please change the shape of y to (n_samples, ), for example using ravel().\n"
          ],
          "name": "stderr"
        },
        {
          "output_type": "stream",
          "text": [
            "              precision    recall  f1-score   support\n",
            "\n",
            "       <=50K       0.84      0.82      0.83      4597\n",
            "        >50K       0.28      0.31      0.29      1046\n",
            "\n",
            "    accuracy                           0.72      5643\n",
            "   macro avg       0.56      0.56      0.56      5643\n",
            "weighted avg       0.73      0.72      0.73      5643\n",
            "\n"
          ],
          "name": "stdout"
        },
        {
          "output_type": "stream",
          "text": [
            "/usr/local/lib/python3.7/dist-packages/ipykernel_launcher.py:28: DataConversionWarning: A column-vector y was passed when a 1d array was expected. Please change the shape of y to (n_samples, ), for example using ravel().\n"
          ],
          "name": "stderr"
        },
        {
          "output_type": "stream",
          "text": [
            "              precision    recall  f1-score   support\n",
            "\n",
            "       <=50K       0.82      0.96      0.88      4597\n",
            "        >50K       0.30      0.08      0.13      1046\n",
            "\n",
            "    accuracy                           0.80      5643\n",
            "   macro avg       0.56      0.52      0.51      5643\n",
            "weighted avg       0.73      0.80      0.74      5643\n",
            "\n"
          ],
          "name": "stdout"
        },
        {
          "output_type": "stream",
          "text": [
            "/usr/local/lib/python3.7/dist-packages/ipykernel_launcher.py:28: DataConversionWarning: A column-vector y was passed when a 1d array was expected. Please change the shape of y to (n_samples, ), for example using ravel().\n"
          ],
          "name": "stderr"
        },
        {
          "output_type": "stream",
          "text": [
            "              precision    recall  f1-score   support\n",
            "\n",
            "       <=50K       0.83      0.90      0.86      4597\n",
            "        >50K       0.27      0.16      0.20      1046\n",
            "\n",
            "    accuracy                           0.76      5643\n",
            "   macro avg       0.55      0.53      0.53      5643\n",
            "weighted avg       0.72      0.76      0.74      5643\n",
            "\n"
          ],
          "name": "stdout"
        },
        {
          "output_type": "stream",
          "text": [
            "/usr/local/lib/python3.7/dist-packages/ipykernel_launcher.py:28: DataConversionWarning: A column-vector y was passed when a 1d array was expected. Please change the shape of y to (n_samples, ), for example using ravel().\n"
          ],
          "name": "stderr"
        },
        {
          "output_type": "stream",
          "text": [
            "              precision    recall  f1-score   support\n",
            "\n",
            "       <=50K       0.82      0.97      0.89      4597\n",
            "        >50K       0.30      0.06      0.10      1046\n",
            "\n",
            "    accuracy                           0.80      5643\n",
            "   macro avg       0.56      0.51      0.49      5643\n",
            "weighted avg       0.72      0.80      0.74      5643\n",
            "\n"
          ],
          "name": "stdout"
        },
        {
          "output_type": "stream",
          "text": [
            "/usr/local/lib/python3.7/dist-packages/ipykernel_launcher.py:28: DataConversionWarning: A column-vector y was passed when a 1d array was expected. Please change the shape of y to (n_samples, ), for example using ravel().\n"
          ],
          "name": "stderr"
        },
        {
          "output_type": "stream",
          "text": [
            "              precision    recall  f1-score   support\n",
            "\n",
            "       <=50K       0.82      0.94      0.88      4597\n",
            "        >50K       0.29      0.11      0.16      1046\n",
            "\n",
            "    accuracy                           0.79      5643\n",
            "   macro avg       0.56      0.52      0.52      5643\n",
            "weighted avg       0.72      0.79      0.74      5643\n",
            "\n",
            "4\n"
          ],
          "name": "stdout"
        },
        {
          "output_type": "stream",
          "text": [
            "/usr/local/lib/python3.7/dist-packages/sklearn/model_selection/_validation.py:515: DataConversionWarning: A column-vector y was passed when a 1d array was expected. Please change the shape of y to (n_samples, ), for example using ravel().\n",
            "  estimator.fit(X_train, y_train, **fit_params)\n",
            "/usr/local/lib/python3.7/dist-packages/sklearn/model_selection/_validation.py:515: DataConversionWarning: A column-vector y was passed when a 1d array was expected. Please change the shape of y to (n_samples, ), for example using ravel().\n",
            "  estimator.fit(X_train, y_train, **fit_params)\n",
            "/usr/local/lib/python3.7/dist-packages/sklearn/model_selection/_validation.py:515: DataConversionWarning: A column-vector y was passed when a 1d array was expected. Please change the shape of y to (n_samples, ), for example using ravel().\n",
            "  estimator.fit(X_train, y_train, **fit_params)\n",
            "/usr/local/lib/python3.7/dist-packages/sklearn/model_selection/_validation.py:515: DataConversionWarning: A column-vector y was passed when a 1d array was expected. Please change the shape of y to (n_samples, ), for example using ravel().\n",
            "  estimator.fit(X_train, y_train, **fit_params)\n",
            "/usr/local/lib/python3.7/dist-packages/sklearn/model_selection/_validation.py:515: DataConversionWarning: A column-vector y was passed when a 1d array was expected. Please change the shape of y to (n_samples, ), for example using ravel().\n",
            "  estimator.fit(X_train, y_train, **fit_params)\n"
          ],
          "name": "stderr"
        },
        {
          "output_type": "stream",
          "text": [
            "[0.78671096 0.77868852 0.77691626 0.77536553 0.78090385]\n",
            "0.7797170265412736\n",
            "[[4320  277]\n",
            " [ 933  113]]\n"
          ],
          "name": "stdout"
        },
        {
          "output_type": "display_data",
          "data": {
            "image/png": "[encoded data removed]",
            "text/plain": [
              "<Figure size 288x288 with 2 Axes>"
            ]
          },
          "metadata": {
            "tags": [],
            "needs_background": "light"
          }
        }
      ]
    }
  ]
}