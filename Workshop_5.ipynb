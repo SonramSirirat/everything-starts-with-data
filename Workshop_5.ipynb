{
  "nbformat": 4,
  "nbformat_minor": 0,
  "metadata": {
    "colab": {
      "name": "Workshop-5.ipynb",
      "provenance": [],
      "authorship_tag": "ABX9TyOgtCIMZMyC4MwJywyCiwwU",
      "include_colab_link": true
    },
    "kernelspec": {
      "name": "python3",
      "display_name": "Python 3"
    },
    "language_info": {
      "name": "python"
    }
  },
  "cells": [
    {
      "cell_type": "markdown",
      "metadata": {
        "id": "view-in-github",
        "colab_type": "text"
      },
      "source": [
        "<a href=\"https://colab.research.google.com/github/SonramSirirat/everything-starts-with-data/blob/main/Workshop_5.ipynb\" target=\"_parent\"><img src=\"https://colab.research.google.com/assets/colab-badge.svg\" alt=\"Open In Colab\"/></a>"
      ]
    },
    {
      "cell_type": "markdown",
      "metadata": {
        "id": "Ajsm-uBo62iR"
      },
      "source": [
        "# Workshop - 5 extend as homework\n",
        "\n",
        "*   Use the previous preprocessed adult data set, and apply the KNN learning algorithm through scklearn\n",
        "*   You are required to program in Python submit your ipybn file to the google class room with the following results.\n",
        "*   Report Accuracy rate, Confusion matrix, Plot train vs test dataset, Plot of Cross validation.\n",
        "*   What is the optimal k?\n",
        "*   Write 1 paragraph discuss the result of your model.\n"
      ]
    },
    {
      "cell_type": "markdown",
      "metadata": {
        "id": "DpBdWoxoIbwl"
      },
      "source": [
        "#Data Exploration"
      ]
    },
    {
      "cell_type": "markdown",
      "metadata": {
        "id": "8gS5o9hE_wD6"
      },
      "source": [
        "**Import Data**"
      ]
    },
    {
      "cell_type": "code",
      "metadata": {
        "id": "llUtdAFP_p1_"
      },
      "source": [
        "import pandas as pd\n",
        "url = \"https://raw.githubusercontent.com/SonramSirirat/everything-starts-with-data/main/Workshop_5/adult_pre.csv?raw=True\"\n",
        "df = pd.read_csv(url)"
      ],
      "execution_count": 117,
      "outputs": []
    },
    {
      "cell_type": "markdown",
      "metadata": {
        "id": "lx3E0IndIOo5"
      },
      "source": [
        "**Adult Table**"
      ]
    },
    {
      "cell_type": "code",
      "metadata": {
        "colab": {
          "base_uri": "https://localhost:8080/",
          "height": 0
        },
        "id": "CUch4JE6IVaD",
        "outputId": "f8f970f6-b076-415e-bc00-07237749a39b"
      },
      "source": [
        "df.head()"
      ],
      "execution_count": 118,
      "outputs": [
        {
          "output_type": "execute_result",
          "data": {
            "text/html": [
              "<div>\n",
              "<style scoped>\n",
              "    .dataframe tbody tr th:only-of-type {\n",
              "        vertical-align: middle;\n",
              "    }\n",
              "\n",
              "    .dataframe tbody tr th {\n",
              "        vertical-align: top;\n",
              "    }\n",
              "\n",
              "    .dataframe thead th {\n",
              "        text-align: right;\n",
              "    }\n",
              "</style>\n",
              "<table border=\"1\" class=\"dataframe\">\n",
              "  <thead>\n",
              "    <tr style=\"text-align: right;\">\n",
              "      <th></th>\n",
              "      <th>age</th>\n",
              "      <th>workclass</th>\n",
              "      <th>fnlwgt</th>\n",
              "      <th>education</th>\n",
              "      <th>education.num</th>\n",
              "      <th>marital.status</th>\n",
              "      <th>occupation</th>\n",
              "      <th>relationship</th>\n",
              "      <th>race</th>\n",
              "      <th>sex.Female</th>\n",
              "      <th>sex.Male</th>\n",
              "      <th>capital.gain</th>\n",
              "      <th>capital.loss</th>\n",
              "      <th>hours.per.week</th>\n",
              "      <th>native.country</th>\n",
              "      <th>income</th>\n",
              "    </tr>\n",
              "  </thead>\n",
              "  <tbody>\n",
              "    <tr>\n",
              "      <th>0</th>\n",
              "      <td>50</td>\n",
              "      <td>Self-emp-not-inc</td>\n",
              "      <td>83311</td>\n",
              "      <td>Bachelors</td>\n",
              "      <td>13</td>\n",
              "      <td>Married-civ-spouse</td>\n",
              "      <td>Exec-managerial</td>\n",
              "      <td>Husband</td>\n",
              "      <td>White</td>\n",
              "      <td>0</td>\n",
              "      <td>1</td>\n",
              "      <td>0</td>\n",
              "      <td>0</td>\n",
              "      <td>13</td>\n",
              "      <td>United-States</td>\n",
              "      <td>&lt;=50K</td>\n",
              "    </tr>\n",
              "    <tr>\n",
              "      <th>1</th>\n",
              "      <td>38</td>\n",
              "      <td>Private</td>\n",
              "      <td>215646</td>\n",
              "      <td>HS-grad</td>\n",
              "      <td>9</td>\n",
              "      <td>Divorced</td>\n",
              "      <td>Handlers-cleaners</td>\n",
              "      <td>Not-in-family</td>\n",
              "      <td>White</td>\n",
              "      <td>0</td>\n",
              "      <td>1</td>\n",
              "      <td>0</td>\n",
              "      <td>0</td>\n",
              "      <td>40</td>\n",
              "      <td>United-States</td>\n",
              "      <td>&lt;=50K</td>\n",
              "    </tr>\n",
              "    <tr>\n",
              "      <th>2</th>\n",
              "      <td>53</td>\n",
              "      <td>Private</td>\n",
              "      <td>234721</td>\n",
              "      <td>11th</td>\n",
              "      <td>7</td>\n",
              "      <td>Married-civ-spouse</td>\n",
              "      <td>Handlers-cleaners</td>\n",
              "      <td>Husband</td>\n",
              "      <td>Black</td>\n",
              "      <td>0</td>\n",
              "      <td>1</td>\n",
              "      <td>0</td>\n",
              "      <td>0</td>\n",
              "      <td>40</td>\n",
              "      <td>United-States</td>\n",
              "      <td>&lt;=50K</td>\n",
              "    </tr>\n",
              "    <tr>\n",
              "      <th>3</th>\n",
              "      <td>28</td>\n",
              "      <td>Private</td>\n",
              "      <td>338409</td>\n",
              "      <td>Bachelors</td>\n",
              "      <td>13</td>\n",
              "      <td>Married-civ-spouse</td>\n",
              "      <td>Prof-specialty</td>\n",
              "      <td>Wife</td>\n",
              "      <td>Black</td>\n",
              "      <td>1</td>\n",
              "      <td>0</td>\n",
              "      <td>0</td>\n",
              "      <td>0</td>\n",
              "      <td>40</td>\n",
              "      <td>Cuba</td>\n",
              "      <td>&lt;=50K</td>\n",
              "    </tr>\n",
              "    <tr>\n",
              "      <th>4</th>\n",
              "      <td>37</td>\n",
              "      <td>Private</td>\n",
              "      <td>284582</td>\n",
              "      <td>Masters</td>\n",
              "      <td>14</td>\n",
              "      <td>Married-civ-spouse</td>\n",
              "      <td>Exec-managerial</td>\n",
              "      <td>Wife</td>\n",
              "      <td>White</td>\n",
              "      <td>1</td>\n",
              "      <td>0</td>\n",
              "      <td>0</td>\n",
              "      <td>0</td>\n",
              "      <td>40</td>\n",
              "      <td>United-States</td>\n",
              "      <td>&lt;=50K</td>\n",
              "    </tr>\n",
              "  </tbody>\n",
              "</table>\n",
              "</div>"
            ],
            "text/plain": [
              "   age          workclass  fnlwgt  ... hours.per.week  native.country  income\n",
              "0   50   Self-emp-not-inc   83311  ...             13   United-States   <=50K\n",
              "1   38            Private  215646  ...             40   United-States   <=50K\n",
              "2   53            Private  234721  ...             40   United-States   <=50K\n",
              "3   28            Private  338409  ...             40            Cuba   <=50K\n",
              "4   37            Private  284582  ...             40   United-States   <=50K\n",
              "\n",
              "[5 rows x 16 columns]"
            ]
          },
          "metadata": {
            "tags": []
          },
          "execution_count": 118
        }
      ]
    },
    {
      "cell_type": "markdown",
      "metadata": {
        "id": "nJhjbIGoIm4N"
      },
      "source": [
        "**Features / Attribute**"
      ]
    },
    {
      "cell_type": "code",
      "metadata": {
        "colab": {
          "base_uri": "https://localhost:8080/"
        },
        "id": "MaoW9n6vIwqe",
        "outputId": "bea96b67-4b4e-442a-eed3-4910473f3ffb"
      },
      "source": [
        "df.info()"
      ],
      "execution_count": 119,
      "outputs": [
        {
          "output_type": "stream",
          "text": [
            "<class 'pandas.core.frame.DataFrame'>\n",
            "RangeIndex: 28214 entries, 0 to 28213\n",
            "Data columns (total 16 columns):\n",
            " #   Column          Non-Null Count  Dtype \n",
            "---  ------          --------------  ----- \n",
            " 0   age             28214 non-null  int64 \n",
            " 1   workclass       28214 non-null  object\n",
            " 2   fnlwgt          28214 non-null  int64 \n",
            " 3   education       28214 non-null  object\n",
            " 4   education.num   28214 non-null  int64 \n",
            " 5   marital.status  28214 non-null  object\n",
            " 6   occupation      28207 non-null  object\n",
            " 7   relationship    28214 non-null  object\n",
            " 8   race            28214 non-null  object\n",
            " 9   sex.Female      28214 non-null  int64 \n",
            " 10  sex.Male        28214 non-null  int64 \n",
            " 11  capital.gain    28214 non-null  int64 \n",
            " 12  capital.loss    28214 non-null  int64 \n",
            " 13  hours.per.week  28214 non-null  int64 \n",
            " 14  native.country  28214 non-null  object\n",
            " 15  income          28214 non-null  object\n",
            "dtypes: int64(8), object(8)\n",
            "memory usage: 3.4+ MB\n"
          ],
          "name": "stdout"
        }
      ]
    },
    {
      "cell_type": "markdown",
      "metadata": {
        "id": "0cVasX8-nZEJ"
      },
      "source": [
        "# Create Model, Tuning Model and Report"
      ]
    },
    {
      "cell_type": "markdown",
      "metadata": {
        "id": "5wZAX-K2JvC_"
      },
      "source": [
        "**Target Class**"
      ]
    },
    {
      "cell_type": "code",
      "metadata": {
        "colab": {
          "base_uri": "https://localhost:8080/"
        },
        "id": "RQT7-R3xJzbB",
        "outputId": "42d5f1c4-87a2-48be-99f2-7b0b30537180"
      },
      "source": [
        "target = df[[\"income\"]]\n",
        "target.value_counts()"
      ],
      "execution_count": 120,
      "outputs": [
        {
          "output_type": "execute_result",
          "data": {
            "text/plain": [
              "income\n",
              " <=50K    22837\n",
              " >50K      5377\n",
              "dtype: int64"
            ]
          },
          "metadata": {
            "tags": []
          },
          "execution_count": 120
        }
      ]
    },
    {
      "cell_type": "markdown",
      "metadata": {
        "id": "8GgzgN7BAFqH"
      },
      "source": [
        "**Selection Feature**"
      ]
    },
    {
      "cell_type": "code",
      "metadata": {
        "colab": {
          "base_uri": "https://localhost:8080/"
        },
        "id": "gPhLr9F8Veng",
        "outputId": "4358e479-4960-4d89-d48c-713fa8f832ef"
      },
      "source": [
        "X = df[[\"age\", \"fnlwgt\", \"education.num\", \"sex.Female\", \"sex.Male\", \"capital.gain\", \"capital.loss\", \"hours.per.week\"]]\n",
        "X.info()"
      ],
      "execution_count": 121,
      "outputs": [
        {
          "output_type": "stream",
          "text": [
            "<class 'pandas.core.frame.DataFrame'>\n",
            "RangeIndex: 28214 entries, 0 to 28213\n",
            "Data columns (total 8 columns):\n",
            " #   Column          Non-Null Count  Dtype\n",
            "---  ------          --------------  -----\n",
            " 0   age             28214 non-null  int64\n",
            " 1   fnlwgt          28214 non-null  int64\n",
            " 2   education.num   28214 non-null  int64\n",
            " 3   sex.Female      28214 non-null  int64\n",
            " 4   sex.Male        28214 non-null  int64\n",
            " 5   capital.gain    28214 non-null  int64\n",
            " 6   capital.loss    28214 non-null  int64\n",
            " 7   hours.per.week  28214 non-null  int64\n",
            "dtypes: int64(8)\n",
            "memory usage: 1.7 MB\n"
          ],
          "name": "stdout"
        }
      ]
    },
    {
      "cell_type": "markdown",
      "metadata": {
        "id": "nc2HkWhWcu1X"
      },
      "source": [
        "**Train Test Split**"
      ]
    },
    {
      "cell_type": "code",
      "metadata": {
        "colab": {
          "base_uri": "https://localhost:8080/"
        },
        "id": "UjUrB8Lt4rLU",
        "outputId": "b6402e64-f51f-403e-ba5c-966d3f7538e4"
      },
      "source": [
        "from sklearn.model_selection import train_test_split\n",
        "X_train, X_test, y_train, y_test = train_test_split(X, target,\n",
        "                                                    test_size = 0.2,\n",
        "                                                    random_state = 7,\n",
        "                                                    stratify = target)\n",
        "print('Train Shape X: {} Y: {}'.format(X_train.shape,y_train.shape))\n",
        "print('Test Shape X: {} Y: {}'.format(X_test.shape,y_test.shape))"
      ],
      "execution_count": 122,
      "outputs": [
        {
          "output_type": "stream",
          "text": [
            "Train Shape X: (22571, 8) Y: (22571, 1)\n",
            "Test Shape X: (5643, 8) Y: (5643, 1)\n"
          ],
          "name": "stdout"
        }
      ]
    },
    {
      "cell_type": "markdown",
      "metadata": {
        "id": "b_Y5KMDgc95g"
      },
      "source": [
        "**Create KNN Model**"
      ]
    },
    {
      "cell_type": "code",
      "metadata": {
        "colab": {
          "base_uri": "https://localhost:8080/"
        },
        "id": "9o7kvlfccqlY",
        "outputId": "efe2f5dd-a3a0-444a-9804-3d56e19f7ee0"
      },
      "source": [
        "from sklearn.neighbors import KNeighborsClassifier\n",
        "knn = KNeighborsClassifier(n_neighbors = 1)\n",
        "knn.fit(X_train, y_train.values.ravel())\n",
        "print(knn)\n",
        "\n",
        "answer = knn.predict(X_test)\n",
        "print('Answer:', answer)"
      ],
      "execution_count": 123,
      "outputs": [
        {
          "output_type": "stream",
          "text": [
            "KNeighborsClassifier(algorithm='auto', leaf_size=30, metric='minkowski',\n",
            "                     metric_params=None, n_jobs=None, n_neighbors=1, p=2,\n",
            "                     weights='uniform')\n",
            "Answer: [' <=50K' ' <=50K' ' <=50K' ... ' <=50K' ' <=50K' ' <=50K']\n"
          ],
          "name": "stdout"
        }
      ]
    },
    {
      "cell_type": "markdown",
      "metadata": {
        "id": "9EV2e7gqeDM0"
      },
      "source": [
        "**Create Classification Report**"
      ]
    },
    {
      "cell_type": "code",
      "metadata": {
        "colab": {
          "base_uri": "https://localhost:8080/"
        },
        "id": "o0VyjuaZeLtw",
        "outputId": "71de703f-ef9c-408c-a682-b0318d585798"
      },
      "source": [
        "from sklearn.metrics import classification_report\n",
        "print(classification_report(y_test, answer))"
      ],
      "execution_count": 124,
      "outputs": [
        {
          "output_type": "stream",
          "text": [
            "              precision    recall  f1-score   support\n",
            "\n",
            "       <=50K       0.84      0.83      0.84      4568\n",
            "        >50K       0.31      0.32      0.31      1075\n",
            "\n",
            "    accuracy                           0.74      5643\n",
            "   macro avg       0.57      0.58      0.58      5643\n",
            "weighted avg       0.74      0.74      0.74      5643\n",
            "\n"
          ],
          "name": "stdout"
        }
      ]
    },
    {
      "cell_type": "markdown",
      "metadata": {
        "id": "jpE4oEunfP9c"
      },
      "source": [
        "**Scale Tranformation**"
      ]
    },
    {
      "cell_type": "code",
      "metadata": {
        "id": "n5vV2qC7fhnC"
      },
      "source": [
        "from sklearn.preprocessing import StandardScaler\n",
        "scaler = StandardScaler()\n",
        "X = scaler.fit_transform(X) # scale"
      ],
      "execution_count": 125,
      "outputs": []
    },
    {
      "cell_type": "markdown",
      "metadata": {
        "id": "5FBDP_R5hJSi"
      },
      "source": [
        "**Train Test Split**"
      ]
    },
    {
      "cell_type": "code",
      "metadata": {
        "colab": {
          "base_uri": "https://localhost:8080/"
        },
        "id": "HE-YtkIphG0e",
        "outputId": "b8a3a9bc-22e0-49fb-ee57-fb5998b7b7ca"
      },
      "source": [
        "X_train, X_test, y_train, y_test = train_test_split(X, target,\n",
        "                                                    test_size = 0.2,\n",
        "                                                    random_state = 7,\n",
        "                                                    stratify = target)\n",
        "print('Train Shape X: {} Y: {}'.format(X_train.shape,y_train.shape))\n",
        "print('Test Shape X: {} Y: {}'.format(X_test.shape,y_test.shape))"
      ],
      "execution_count": 126,
      "outputs": [
        {
          "output_type": "stream",
          "text": [
            "Train Shape X: (22571, 8) Y: (22571, 1)\n",
            "Test Shape X: (5643, 8) Y: (5643, 1)\n"
          ],
          "name": "stdout"
        }
      ]
    },
    {
      "cell_type": "markdown",
      "metadata": {
        "id": "U9fLLsyrhYft"
      },
      "source": [
        "**Create KNN Model**"
      ]
    },
    {
      "cell_type": "code",
      "metadata": {
        "colab": {
          "base_uri": "https://localhost:8080/"
        },
        "id": "B7wcGcB5hREn",
        "outputId": "22a3c8a4-ddb8-4be4-b150-e186041ed7bf"
      },
      "source": [
        "knn = KNeighborsClassifier(n_neighbors = 1)\n",
        "knn.fit(X_train, y_train.values.ravel())\n",
        "print(knn)\n",
        "\n",
        "answer = knn.predict(X_test)\n",
        "print('Answer:', answer)"
      ],
      "execution_count": 127,
      "outputs": [
        {
          "output_type": "stream",
          "text": [
            "KNeighborsClassifier(algorithm='auto', leaf_size=30, metric='minkowski',\n",
            "                     metric_params=None, n_jobs=None, n_neighbors=1, p=2,\n",
            "                     weights='uniform')\n",
            "Answer: [' >50K' ' <=50K' ' <=50K' ... ' <=50K' ' <=50K' ' >50K']\n"
          ],
          "name": "stdout"
        }
      ]
    },
    {
      "cell_type": "markdown",
      "metadata": {
        "id": "tojVjo0Jhmh_"
      },
      "source": [
        "**Create Classification Report**"
      ]
    },
    {
      "cell_type": "code",
      "metadata": {
        "colab": {
          "base_uri": "https://localhost:8080/"
        },
        "id": "676FpWoZhoW7",
        "outputId": "0232d088-b242-4211-95f7-c9019e645202"
      },
      "source": [
        "print(classification_report(y_test, answer))"
      ],
      "execution_count": 128,
      "outputs": [
        {
          "output_type": "stream",
          "text": [
            "              precision    recall  f1-score   support\n",
            "\n",
            "       <=50K       0.86      0.86      0.86      4568\n",
            "        >50K       0.41      0.42      0.41      1075\n",
            "\n",
            "    accuracy                           0.77      5643\n",
            "   macro avg       0.64      0.64      0.64      5643\n",
            "weighted avg       0.78      0.77      0.78      5643\n",
            "\n"
          ],
          "name": "stdout"
        }
      ]
    },
    {
      "cell_type": "markdown",
      "metadata": {
        "id": "BOD5ZPXgje0b"
      },
      "source": [
        "**Tune Model**"
      ]
    },
    {
      "cell_type": "code",
      "metadata": {
        "colab": {
          "base_uri": "https://localhost:8080/"
        },
        "id": "cC4pJYq3jOCq",
        "outputId": "d55effbb-e06e-46a2-8a1f-6ce3f46c53cc"
      },
      "source": [
        "from sklearn.model_selection import GridSearchCV\n",
        "parameters = {'n_neighbors': range(1, 50)}\n",
        "knn_best = GridSearchCV(knn, parameters, cv = 5)\n",
        "knn_best.fit(X_train, y_train.values.ravel())\n",
        "knn_best.best_estimator_\n"
      ],
      "execution_count": 129,
      "outputs": [
        {
          "output_type": "execute_result",
          "data": {
            "text/plain": [
              "KNeighborsClassifier(algorithm='auto', leaf_size=30, metric='minkowski',\n",
              "                     metric_params=None, n_jobs=None, n_neighbors=45, p=2,\n",
              "                     weights='uniform')"
            ]
          },
          "metadata": {
            "tags": []
          },
          "execution_count": 129
        }
      ]
    },
    {
      "cell_type": "markdown",
      "metadata": {
        "id": "flxvo8EekvA2"
      },
      "source": [
        "**Create Classification Report(After tuning model)**"
      ]
    },
    {
      "cell_type": "code",
      "metadata": {
        "colab": {
          "base_uri": "https://localhost:8080/"
        },
        "id": "rdqDGSr6k5B-",
        "outputId": "6431f7ff-3524-4ffa-dba2-bdd2c13b0cba"
      },
      "source": [
        "answer = knn_best.predict(X_test)\n",
        "print(classification_report(y_test, answer))"
      ],
      "execution_count": 130,
      "outputs": [
        {
          "output_type": "stream",
          "text": [
            "              precision    recall  f1-score   support\n",
            "\n",
            "       <=50K       0.86      0.95      0.90      4568\n",
            "        >50K       0.62      0.35      0.45      1075\n",
            "\n",
            "    accuracy                           0.84      5643\n",
            "   macro avg       0.74      0.65      0.67      5643\n",
            "weighted avg       0.82      0.84      0.82      5643\n",
            "\n"
          ],
          "name": "stdout"
        }
      ]
    },
    {
      "cell_type": "markdown",
      "metadata": {
        "id": "1kATkuThnoV7"
      },
      "source": [
        "# Evaluate Model"
      ]
    },
    {
      "cell_type": "markdown",
      "metadata": {
        "id": "lE_7ImeKv3ZG"
      },
      "source": [
        "**Classification Report**"
      ]
    },
    {
      "cell_type": "code",
      "metadata": {
        "colab": {
          "base_uri": "https://localhost:8080/"
        },
        "id": "ZmU0TH-fvghN",
        "outputId": "c052201e-1733-4140-fee7-1b8e7403959f"
      },
      "source": [
        "print(classification_report(y_test, answer))"
      ],
      "execution_count": 134,
      "outputs": [
        {
          "output_type": "stream",
          "text": [
            "              precision    recall  f1-score   support\n",
            "\n",
            "       <=50K       0.86      0.95      0.90      4568\n",
            "        >50K       0.62      0.35      0.45      1075\n",
            "\n",
            "    accuracy                           0.84      5643\n",
            "   macro avg       0.74      0.65      0.67      5643\n",
            "weighted avg       0.82      0.84      0.82      5643\n",
            "\n"
          ],
          "name": "stdout"
        }
      ]
    },
    {
      "cell_type": "markdown",
      "metadata": {
        "id": "PiI7LxWbwf_U"
      },
      "source": [
        "**Run Classifier**"
      ]
    },
    {
      "cell_type": "code",
      "metadata": {
        "colab": {
          "base_uri": "https://localhost:8080/"
        },
        "id": "1p80cga_wD2a",
        "outputId": "f3c5bd08-e1a9-4563-d1cd-ffe77063d6b6"
      },
      "source": [
        "from sklearn import svm, datasets\n",
        "classifier = svm.SVC(kernel='linear')\n",
        "y_pred = classifier.fit(X_train, y_train.values.ravel()).predict(X_test)\n",
        "print(y_pred)"
      ],
      "execution_count": 148,
      "outputs": [
        {
          "output_type": "stream",
          "text": [
            "[' <=50K' ' <=50K' ' <=50K' ... ' <=50K' ' <=50K' ' <=50K']\n"
          ],
          "name": "stdout"
        }
      ]
    },
    {
      "cell_type": "markdown",
      "metadata": {
        "id": "AtL6jbzaxYd3"
      },
      "source": [
        "**Compute confusion matrix**"
      ]
    },
    {
      "cell_type": "code",
      "metadata": {
        "colab": {
          "base_uri": "https://localhost:8080/"
        },
        "id": "nQr-3OJRxb4D",
        "outputId": "ddaab75b-665d-454a-d53c-2743fcdee3ee"
      },
      "source": [
        "from sklearn.metrics import confusion_matrix\n",
        "cm = confusion_matrix(y_test, y_pred)\n",
        "print(cm)"
      ],
      "execution_count": 149,
      "outputs": [
        {
          "output_type": "stream",
          "text": [
            "[[4568    0]\n",
            " [1075    0]]\n"
          ],
          "name": "stdout"
        }
      ]
    },
    {
      "cell_type": "markdown",
      "metadata": {
        "id": "2AdQwmKGtYR1"
      },
      "source": [
        "**Confusion Matrix**\n",
        "\n",
        "[Readmore](https://medium.com/@cheng3374/%E0%B8%A7%E0%B8%B1%E0%B8%94%E0%B8%9B%E0%B8%A3%E0%B8%B0%E0%B8%AA%E0%B8%B4%E0%B8%97%E0%B8%98%E0%B8%B4%E0%B8%A0%E0%B8%B2%E0%B8%9E-model-%E0%B8%88%E0%B8%B2%E0%B8%81-confusion-matrix-69d391bcd48)"
      ]
    },
    {
      "cell_type": "code",
      "metadata": {
        "colab": {
          "base_uri": "https://localhost:8080/",
          "height": 263
        },
        "id": "UDPTO0KitfMA",
        "outputId": "30234512-cb54-4581-be97-65dc2de0d334"
      },
      "source": [
        "import matplotlib.pyplot as plt\n",
        "plt.matshow(cm)\n",
        "plt.title('Confusion matrix')\n",
        "plt.colorbar()\n",
        "plt.ylabel('Actual')\n",
        "plt.xlabel('Predicted')\n",
        "plt.show()"
      ],
      "execution_count": 151,
      "outputs": [
        {
          "output_type": "display_data",
          "data": {
            "image/png": "[encoded data removed]",
            "text/plain": [
              "<Figure size 288x288 with 2 Axes>"
            ]
          },
          "metadata": {
            "tags": [],
            "needs_background": "light"
          }
        }
      ]
    },
    {
      "cell_type": "markdown",
      "metadata": {
        "id": "okebI95c_QTf"
      },
      "source": [
        "**Cross Validation**"
      ]
    },
    {
      "cell_type": "code",
      "metadata": {
        "colab": {
          "base_uri": "https://localhost:8080/"
        },
        "id": "LZuDAuulUiDo",
        "outputId": "2ebbb554-3403-4cdb-e441-ae2175277846"
      },
      "source": [
        "from sklearn.model_selection import cross_val_score\n",
        "score_train = cross_val_score(knn, \n",
        "                        X_train, \n",
        "                        y_train.values.ravel(), \n",
        "                        cv = 45, \n",
        "                        scoring = 'accuracy')\n",
        "print(score_train)"
      ],
      "execution_count": 188,
      "outputs": [
        {
          "output_type": "stream",
          "text": [
            "[0.76494024 0.80677291 0.76494024 0.77689243 0.76494024 0.79083665\n",
            " 0.77888446 0.74900398 0.75099602 0.75896414 0.76494024 0.74501992\n",
            " 0.7749004  0.78286853 0.77290837 0.78286853 0.79681275 0.74900398\n",
            " 0.74103586 0.75896414 0.78087649 0.76095618 0.7749004  0.78286853\n",
            " 0.79681275 0.75298805 0.80439122 0.74850299 0.78243513 0.76846307\n",
            " 0.77045908 0.78642715 0.74251497 0.78842315 0.7744511  0.75848303\n",
            " 0.76047904 0.75848303 0.80239521 0.8003992  0.7744511  0.79241517\n",
            " 0.7744511  0.75648703 0.76247505]\n"
          ],
          "name": "stdout"
        }
      ]
    },
    {
      "cell_type": "code",
      "metadata": {
        "colab": {
          "base_uri": "https://localhost:8080/",
          "height": 287
        },
        "id": "ouCmYrvy9i1T",
        "outputId": "06e5e4e5-dfeb-438d-daf9-f4f00dd58448"
      },
      "source": [
        "import matplotlib.pyplot as plt\n",
        "plt.plot(score_train)"
      ],
      "execution_count": 189,
      "outputs": [
        {
          "output_type": "execute_result",
          "data": {
            "text/plain": [
              "[<matplotlib.lines.Line2D at 0x7f7c3f3efed0>]"
            ]
          },
          "metadata": {
            "tags": []
          },
          "execution_count": 189
        },
        {
          "output_type": "display_data",
          "data": {
            "image/png": "[encoded data removed]",
            "text/plain": [
              "<Figure size 432x288 with 1 Axes>"
            ]
          },
          "metadata": {
            "tags": [],
            "needs_background": "light"
          }
        }
      ]
    },
    {
      "cell_type": "code",
      "metadata": {
        "colab": {
          "base_uri": "https://localhost:8080/"
        },
        "id": "qxgBHolr_OAV",
        "outputId": "b1d376ec-8c3c-45e9-9447-ac76f35d5700"
      },
      "source": [
        "from sklearn.model_selection import cross_val_score\n",
        "score_test = cross_val_score(knn, \n",
        "                        X_test, \n",
        "                        y_test.values.ravel(), \n",
        "                        cv = 45, \n",
        "                        scoring = 'accuracy')\n",
        "print(score_test)"
      ],
      "execution_count": 190,
      "outputs": [
        {
          "output_type": "stream",
          "text": [
            "[0.76984127 0.79365079 0.71428571 0.82539683 0.73809524 0.75396825\n",
            " 0.76190476 0.75396825 0.8015873  0.76984127 0.76190476 0.70634921\n",
            " 0.78571429 0.75396825 0.77777778 0.76190476 0.73809524 0.81746032\n",
            " 0.784      0.728      0.76       0.728      0.784      0.792\n",
            " 0.784      0.736      0.76       0.752      0.768      0.816\n",
            " 0.72       0.76       0.824      0.8        0.736      0.808\n",
            " 0.816      0.752      0.768      0.808      0.76       0.768\n",
            " 0.768      0.712      0.728     ]\n"
          ],
          "name": "stdout"
        }
      ]
    },
    {
      "cell_type": "code",
      "metadata": {
        "colab": {
          "base_uri": "https://localhost:8080/",
          "height": 283
        },
        "id": "PxhHAKFx_m0K",
        "outputId": "e88dcaba-1eaf-4ed1-fe3b-778358c8908e"
      },
      "source": [
        "plt.plot(score_test)"
      ],
      "execution_count": 191,
      "outputs": [
        {
          "output_type": "execute_result",
          "data": {
            "text/plain": [
              "[<matplotlib.lines.Line2D at 0x7f7c3ed12c10>]"
            ]
          },
          "metadata": {
            "tags": []
          },
          "execution_count": 191
        },
        {
          "output_type": "display_data",
          "data": {
            "image/png": "[encoded data removed]",
            "text/plain": [
              "<Figure size 432x288 with 1 Axes>"
            ]
          },
          "metadata": {
            "tags": [],
            "needs_background": "light"
          }
        }
      ]
    }
  ]
}