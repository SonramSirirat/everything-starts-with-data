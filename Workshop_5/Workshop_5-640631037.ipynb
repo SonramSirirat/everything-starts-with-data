{
  "nbformat": 4,
  "nbformat_minor": 0,
  "metadata": {
    "colab": {
      "name": "Workshop_5.ipynb",
      "provenance": [],
      "collapsed_sections": []
    },
    "kernelspec": {
      "name": "python3",
      "display_name": "Python 3"
    },
    "language_info": {
      "name": "python"
    }
  },
  "cells": [
    {
      "cell_type": "markdown",
      "metadata": {
        "id": "Mn5TlDX3HALq"
      },
      "source": [
        "**Group members**\n",
        "\n",
        "*   Nattapat Tangniyom   640631032\n",
        "*   Sonram Sirirat       640631037\n",
        "*   Thanakorn Chaisen \t 640631120"
      ]
    },
    {
      "cell_type": "markdown",
      "metadata": {
        "id": "vZsklKwY_VJt"
      },
      "source": [
        "**Discuss the model result**\n",
        "\n",
        "[Google Doc](https://docs.google.com/document/d/1_GkfR34xVttALH401G-ecejZvjPVLNy_yOOB5K-LcSI/edit?usp=sharing)"
      ]
    },
    {
      "cell_type": "markdown",
      "metadata": {
        "id": "SD-Sbl5mlGsg"
      },
      "source": [
        "**Import Dataset**"
      ]
    },
    {
      "cell_type": "code",
      "metadata": {
        "colab": {
          "base_uri": "https://localhost:8080/"
        },
        "id": "SlUMFUg0lK3L",
        "outputId": "06e8b268-f9c8-4b01-a19a-4182573b3370"
      },
      "source": [
        "import pandas as pd\n",
        "url = \"https://raw.githubusercontent.com/SonramSirirat/everything-starts-with-data/main/Workshop_5/adult_pre.csv?raw=True\"\n",
        "df = pd.read_csv(url)\n",
        "print(df)"
      ],
      "execution_count": null,
      "outputs": [
        {
          "output_type": "stream",
          "text": [
            "       age          workclass  fnlwgt  ... hours.per.week  native.country  income\n",
            "0       50   Self-emp-not-inc   83311  ...             13   United-States   <=50K\n",
            "1       38            Private  215646  ...             40   United-States   <=50K\n",
            "2       53            Private  234721  ...             40   United-States   <=50K\n",
            "3       28            Private  338409  ...             40            Cuba   <=50K\n",
            "4       37            Private  284582  ...             40   United-States   <=50K\n",
            "...    ...                ...     ...  ...            ...             ...     ...\n",
            "28209   22            Private  310152  ...             40   United-States   <=50K\n",
            "28210   27            Private  257302  ...             38   United-States   <=50K\n",
            "28211   40            Private  154374  ...             40   United-States    >50K\n",
            "28212   58            Private  151910  ...             40   United-States   <=50K\n",
            "28213   22            Private  201490  ...             20   United-States   <=50K\n",
            "\n",
            "[28214 rows x 16 columns]\n"
          ],
          "name": "stdout"
        }
      ]
    },
    {
      "cell_type": "markdown",
      "metadata": {
        "id": "zD6W_bEOls2a"
      },
      "source": [
        "**Train Test Split**"
      ]
    },
    {
      "cell_type": "code",
      "metadata": {
        "colab": {
          "base_uri": "https://localhost:8080/"
        },
        "id": "KBZuIKiLlr1f",
        "outputId": "c5402239-e608-4981-94a1-9c3e6ee81037"
      },
      "source": [
        "from sklearn.model_selection import train_test_split\n",
        "X = df[[\"age\",\"fnlwgt\",\"education.num\",\"sex.Female\",\"sex.Male\",\"capital.gain\",\"capital.loss\",\"hours.per.week\"]]\n",
        "y = df[[\"income\"]]\n",
        "X_train,X_test,y_train,y_test = train_test_split(X,y,test_size=0.2,random_state=7)\n",
        "print('Train Shape X: {} Y : {}'.format(X_train.shape,y_train.shape))\n",
        "print('Test Shape X: {} Y : {}'.format(X_test.shape,y_test.shape))"
      ],
      "execution_count": null,
      "outputs": [
        {
          "output_type": "stream",
          "text": [
            "Train Shape X: (22571, 8) Y : (22571, 1)\n",
            "Test Shape X: (5643, 8) Y : (5643, 1)\n"
          ],
          "name": "stdout"
        }
      ]
    },
    {
      "cell_type": "code",
      "metadata": {
        "id": "Jeodv7AbzPOO",
        "colab": {
          "base_uri": "https://localhost:8080/"
        },
        "outputId": "d6904357-e0c5-4d73-b074-bad13a7a0bd8"
      },
      "source": [
        "import matplotlib.pyplot as plt\n",
        "import numpy as np\n",
        "import pandas as pd\n",
        "\n",
        "from sklearn.neighbors import KNeighborsClassifier\n",
        "n = 5\n",
        "k = 0\n",
        "acc = 0\n",
        "for i in range(1,n+1):\n",
        "    knn = KNeighborsClassifier(n_neighbors = i)\n",
        "    knn.fit(X_train,y_train.values.ravel())\n",
        "    answer = knn.predict(X_test)\n",
        "    \n",
        "    from sklearn.metrics import classification_report\n",
        "    print('Report:', i)\n",
        "    print(classification_report(y_test, answer))\n",
        "    print('___________________________________________________________________')\n",
        "    \n",
        "    from sklearn.metrics import accuracy_score\n",
        "    accore = accuracy_score(y_test, answer)\n",
        "    from sklearn.metrics import confusion_matrix\n",
        "    if acc < accore:\n",
        "        k = i\n",
        "        acc = accore\n",
        "\n",
        "# Optimal k\n",
        "print('Optimal k:', k)"
      ],
      "execution_count": null,
      "outputs": [
        {
          "output_type": "stream",
          "text": [
            "Report: 1\n",
            "              precision    recall  f1-score   support\n",
            "\n",
            "       <=50K       0.84      0.82      0.83      4597\n",
            "        >50K       0.28      0.31      0.29      1046\n",
            "\n",
            "    accuracy                           0.72      5643\n",
            "   macro avg       0.56      0.56      0.56      5643\n",
            "weighted avg       0.73      0.72      0.73      5643\n",
            "\n",
            "___________________________________________________________________\n",
            "Report: 2\n",
            "              precision    recall  f1-score   support\n",
            "\n",
            "       <=50K       0.82      0.96      0.88      4597\n",
            "        >50K       0.30      0.08      0.13      1046\n",
            "\n",
            "    accuracy                           0.80      5643\n",
            "   macro avg       0.56      0.52      0.51      5643\n",
            "weighted avg       0.73      0.80      0.74      5643\n",
            "\n",
            "___________________________________________________________________\n",
            "Report: 3\n",
            "              precision    recall  f1-score   support\n",
            "\n",
            "       <=50K       0.83      0.90      0.86      4597\n",
            "        >50K       0.27      0.16      0.20      1046\n",
            "\n",
            "    accuracy                           0.76      5643\n",
            "   macro avg       0.55      0.53      0.53      5643\n",
            "weighted avg       0.72      0.76      0.74      5643\n",
            "\n",
            "___________________________________________________________________\n",
            "Report: 4\n",
            "              precision    recall  f1-score   support\n",
            "\n",
            "       <=50K       0.82      0.97      0.89      4597\n",
            "        >50K       0.30      0.06      0.10      1046\n",
            "\n",
            "    accuracy                           0.80      5643\n",
            "   macro avg       0.56      0.51      0.49      5643\n",
            "weighted avg       0.72      0.80      0.74      5643\n",
            "\n",
            "___________________________________________________________________\n",
            "Report: 5\n",
            "              precision    recall  f1-score   support\n",
            "\n",
            "       <=50K       0.82      0.94      0.88      4597\n",
            "        >50K       0.29      0.11      0.16      1046\n",
            "\n",
            "    accuracy                           0.79      5643\n",
            "   macro avg       0.56      0.52      0.52      5643\n",
            "weighted avg       0.72      0.79      0.74      5643\n",
            "\n",
            "___________________________________________________________________\n",
            "Optimal k: 4\n"
          ],
          "name": "stdout"
        }
      ]
    },
    {
      "cell_type": "markdown",
      "metadata": {
        "id": "bVs5op52si2i"
      },
      "source": [
        "**Otimal k with GridSearchCV**"
      ]
    },
    {
      "cell_type": "code",
      "metadata": {
        "id": "aMZSZ_lRd4zZ",
        "colab": {
          "base_uri": "https://localhost:8080/"
        },
        "outputId": "cb126889-28b0-4e14-9361-6db5dde9d18d"
      },
      "source": [
        "from sklearn.model_selection import GridSearchCV\n",
        "parameters = {'n_neighbors': range(1,6)}\n",
        "knn_best = GridSearchCV(knn, parameters, cv=5)\n",
        "knn_best.fit(X_train,y_train.values.ravel())\n",
        "knn_best.best_estimator_"
      ],
      "execution_count": null,
      "outputs": [
        {
          "output_type": "execute_result",
          "data": {
            "text/plain": [
              "KNeighborsClassifier(algorithm='auto', leaf_size=30, metric='minkowski',\n",
              "                     metric_params=None, n_jobs=None, n_neighbors=4, p=2,\n",
              "                     weights='uniform')"
            ]
          },
          "metadata": {
            "tags": []
          },
          "execution_count": 138
        }
      ]
    },
    {
      "cell_type": "markdown",
      "metadata": {
        "id": "-qhTXpBfteoe"
      },
      "source": [
        "**Train VS Test accuracy**"
      ]
    },
    {
      "cell_type": "code",
      "metadata": {
        "colab": {
          "base_uri": "https://localhost:8080/",
          "height": 295
        },
        "id": "VnOFYz-ytRAb",
        "outputId": "5791866e-ae2e-4fb6-d8c0-761707f9867d"
      },
      "source": [
        "neighbors = np.arange(1,6)\n",
        "train_accuracy = np.empty(len(neighbors))\n",
        "test_accuracy = np.empty(len(neighbors))\n",
        "for i,k in enumerate(neighbors):\n",
        "    #Setup a knn classifier with k neighbors\n",
        "    knn = KNeighborsClassifier(n_neighbors=k)\n",
        "    #Fit the model \n",
        "    knn.fit(X_train, y_train.values.ravel()) \n",
        "    #Compute accuracy on the training set \n",
        "    train_accuracy[i] = knn.score(X_train, y_train) \n",
        "    #Compute accuracy on the test set \n",
        "    test_accuracy[i] = knn.score(X_test, y_test) \n",
        "\n",
        "plt.title('k-NN Varying number of neighbors')\n",
        "plt.plot(neighbors, test_accuracy, label='Testing Accuracy')\n",
        "plt.plot(neighbors, train_accuracy, label='Training accuracy')\n",
        "plt.legend()\n",
        "plt.xlabel('Number of neighbors')\n",
        "plt.ylabel('Accuracy')\n",
        "plt.show()"
      ],
      "execution_count": null,
      "outputs": [
        {
          "output_type": "display_data",
          "data": {
            "image/png": "[encoded data removed]",
            "text/plain": [
              "<Figure size 432x288 with 1 Axes>"
            ]
          },
          "metadata": {
            "tags": [],
            "needs_background": "light"
          }
        }
      ]
    },
    {
      "cell_type": "markdown",
      "metadata": {
        "id": "NHNrtDBPoPUd"
      },
      "source": [
        "**Confusion matrix**"
      ]
    },
    {
      "cell_type": "code",
      "metadata": {
        "colab": {
          "base_uri": "https://localhost:8080/",
          "height": 292
        },
        "id": "fwqtd96hm9pc",
        "outputId": "0877e02b-bae3-4dcc-f8df-167a39c515cb"
      },
      "source": [
        "# Compute confusion matrix\n",
        "from sklearn import svm, datasets\n",
        "from sklearn.metrics import confusion_matrix\n",
        "cm = confusion_matrix(y_test, answer)\n",
        "print('True Positive: {} False Positive: {}'.format(cm[0][0],cm[0][1]))\n",
        "print('True Negative: {} False Negative: {}'.format(cm[1][0],cm[1][1]))\n",
        "\n",
        "# Show confusion matrix in a separate window\n",
        "# import matplotlib.pyplot as plt\n",
        "plt.matshow(cm)\n",
        "plt.title('Confusion matrix')\n",
        "plt.colorbar()\n",
        "plt.ylabel('True label')\n",
        "plt.xlabel('Predicted label')\n",
        "plt.show()"
      ],
      "execution_count": null,
      "outputs": [
        {
          "output_type": "stream",
          "text": [
            "True Positive: 4320 False Positive: 277\n",
            "True Negative: 933 False Negative: 113\n"
          ],
          "name": "stdout"
        },
        {
          "output_type": "display_data",
          "data": {
            "image/png": "[encoded data removed]",
            "text/plain": [
              "<Figure size 288x288 with 2 Axes>"
            ]
          },
          "metadata": {
            "tags": [],
            "needs_background": "light"
          }
        }
      ]
    },
    {
      "cell_type": "markdown",
      "metadata": {
        "id": "9o_uvYqAo9lh"
      },
      "source": [
        "**Cross Validation**"
      ]
    },
    {
      "cell_type": "code",
      "metadata": {
        "colab": {
          "base_uri": "https://localhost:8080/",
          "height": 330
        },
        "id": "-nWuwMPVoe4T",
        "outputId": "38dc871a-361a-4ed6-85e4-9e3aabbf0c32"
      },
      "source": [
        "from sklearn.model_selection import cross_val_score\n",
        "score = cross_val_score(knn, X_train,y_train.values.ravel(),cv=5,scoring='accuracy')\n",
        "print('Validation score:', score)\n",
        "avg = sum(score)/len(score)\n",
        "print('Average score:', avg)\n",
        "\n",
        "# import matplotlib.pyplot as plt\n",
        "x = np.arange(1, 6)\n",
        "plt.title(\"cross_val_score\")\n",
        "plt.xlabel(\"cv\")\n",
        "plt.ylabel(\"accuracy\")\n",
        "plt.plot(x, score, color =\"green\")\n",
        "plt.show()"
      ],
      "execution_count": null,
      "outputs": [
        {
          "output_type": "stream",
          "text": [
            "Validation score: [0.78671096 0.77868852 0.77691626 0.77536553 0.78090385]\n",
            "Average score: 0.7797170265412736\n"
          ],
          "name": "stdout"
        },
        {
          "output_type": "display_data",
          "data": {
            "image/png": "[encoded data removed]",
            "text/plain": [
              "<Figure size 432x288 with 1 Axes>"
            ]
          },
          "metadata": {
            "tags": [],
            "needs_background": "light"
          }
        }
      ]
    }
  ]
}