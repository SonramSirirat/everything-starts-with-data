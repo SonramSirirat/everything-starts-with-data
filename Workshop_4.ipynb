{
  "nbformat": 4,
  "nbformat_minor": 5,
  "metadata": {
    "kernelspec": {
      "display_name": "Python 3",
      "language": "python",
      "name": "python3"
    },
    "language_info": {
      "codemirror_mode": {
        "name": "ipython",
        "version": 3
      },
      "file_extension": ".py",
      "mimetype": "text/x-python",
      "name": "python",
      "nbconvert_exporter": "python",
      "pygments_lexer": "ipython3",
      "version": "3.8.8"
    },
    "colab": {
      "name": "Workshop_4.ipynb",
      "provenance": []
    }
  },
  "cells": [
    {
      "cell_type": "markdown",
      "metadata": {
        "id": "qzUV6UBA5CN2"
      },
      "source": [
        "Workshop 4 Data pre-processing with mix data type.\n",
        "\n",
        "Due date 24th July 2021 before midnight 23:59pm\n",
        "\n",
        "Description: In this workshop, we are going to perform a data pre-processing task for the “census income” dataset, also known as the \"Adult\" dataset. The aim of this workshop is to get your familiar with the basic pre-processing (i.e., try to avoid using method from library to do the tasks). The output of this workshop is a KNN predictive mode. The model assists the stakeholders regarding the predict whether income exceeds $50K/yr based on census data.\n",
        "\n",
        "Example of your preprocessing task are listed as:\n",
        "\n",
        "Convert training and test data in to arff format. (you may use any tool to convert)\n",
        "Identify the missing value and missing value imputation\n",
        "Deal with outlier\n",
        "Convert class independent and dependent variables to nominal or ordinal feature (e.g., 0, 1).\n",
        "Applied one-hot and thermo encoding. Etc.\n",
        "Data source:\n",
        "\n",
        "https://archive.ics.uci.edu/ml/datasets/Adult\n",
        "\n",
        "https://archive.ics.uci.edu/ml/machine-learning-databases/adult/\n",
        "\n",
        "Training data = adult.data\n",
        "\n",
        "Testing data = adult.test\n",
        "\n",
        "Tool:\n",
        "\n",
        "You can use any of your favorite tools (e.g., excel, python, java, etc.) By the end of this workshop you should write one page discussing the following questions?\n",
        "\n",
        "Which feature is the class target / dependent variables?\n",
        "How many missing values in this data set? (list for each features)\n",
        "How did you remedy the missing value and outliers (show steps)\n",
        "What data pre-processing (i.e. normalization, discretization) techniques you have use in for this data set.\n",
        "Use Weka software, convert you pre-processed data to .arff and use KNN algorithm or IBK for datamining tool.\n",
        "What is the test accuracy did you get after you applied the adult.test (before pre-process and after pre-processing)?\n",
        "Workshop submission:\n",
        "\n",
        "Please submit the following items to the google classroom.\n",
        "\n",
        "One page describes of what you have done for the pre-processing stage in pdf format and how, such that you should address the pre-processing methods and the given questions. Please include your name, last name, and student id properly\n",
        "The pre-processing dataset in csv format, please rename it to adult_pre.csv\n",
        "Your IBK model from Weka software."
      ],
      "id": "qzUV6UBA5CN2"
    },
    {
      "cell_type": "code",
      "metadata": {
        "id": "8db7d6e9"
      },
      "source": [
        ""
      ],
      "id": "8db7d6e9",
      "execution_count": null,
      "outputs": []
    }
  ]
}