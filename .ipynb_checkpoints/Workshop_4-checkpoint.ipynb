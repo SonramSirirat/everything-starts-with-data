{
 "cells": [
  {
   "cell_type": "code",
   "execution_count": null,
   "id": "09ef442b",
   "metadata": {},
   "outputs": [],
   "source": [
    "Workshop 4 Data pre-processing with mix data type.\n",
    "\n",
    "Due date 24th July 2021 before midnight 23:59pm"
   ]
  },
  {
   "cell_type": "code",
   "execution_count": null,
   "id": "8db7d6e9",
   "metadata": {},
   "outputs": [],
   "source": []
  }
 ],
 "metadata": {
  "kernelspec": {
   "display_name": "Python 3",
   "language": "python",
   "name": "python3"
  },
  "language_info": {
   "codemirror_mode": {
    "name": "ipython",
    "version": 3
   },
   "file_extension": ".py",
   "mimetype": "text/x-python",
   "name": "python",
   "nbconvert_exporter": "python",
   "pygments_lexer": "ipython3",
   "version": "3.8.8"
  }
 },
 "nbformat": 4,
 "nbformat_minor": 5
}
